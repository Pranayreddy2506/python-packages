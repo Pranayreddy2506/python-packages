{
 "cells": [
  {
   "cell_type": "code",
   "execution_count": 1,
   "id": "a412b71f-d6a2-464a-bc38-10a8e0e53ac4",
   "metadata": {},
   "outputs": [
    {
     "name": "stdout",
     "output_type": "stream",
     "text": [
      "Requirement already satisfied: numpy in c:\\users\\reddy\\anaconda3abc\\lib\\site-packages (1.26.4)\n"
     ]
    }
   ],
   "source": [
    "!pip install numpy"
   ]
  },
  {
   "cell_type": "code",
   "execution_count": 3,
   "id": "d7207ff7-5632-4438-9598-9104a61fe4ee",
   "metadata": {},
   "outputs": [],
   "source": [
    "import numpy as np"
   ]
  },
  {
   "cell_type": "code",
   "execution_count": 11,
   "id": "b6e04811-c5c3-4139-a7ce-1c3437ccae9d",
   "metadata": {},
   "outputs": [
    {
     "name": "stdout",
     "output_type": "stream",
     "text": [
      "[1 2 3]\n",
      "[[1.5 2.  3. ]\n",
      " [4.  5.  6. ]]\n",
      "[[[1.5 2.  3. ]\n",
      "  [4.  5.  6. ]]\n",
      "\n",
      " [[3.  2.  1. ]\n",
      "  [4.  5.  1. ]]]\n"
     ]
    }
   ],
   "source": [
    "a = np.array([1,2,3]) # 1 row and 3 cols\n",
    "print(a)\n",
    "b = np.array([(1.5,2,3),(4,5,6)]) # 2 rows and 3 cols\n",
    "print(b)\n",
    "c  = np.array([[(1.5,2,3),(4,5,6)],[(3,2,1),(4,5,1)]]) # 4 rows and 3 cols\n",
    "print(c)"
   ]
  },
  {
   "cell_type": "code",
   "execution_count": 50,
   "id": "1ac0aaed-570d-4770-b718-4b5702b20503",
   "metadata": {},
   "outputs": [
    {
     "name": "stdout",
     "output_type": "stream",
     "text": [
      "[[0. 0. 0.]\n",
      " [0. 0. 0.]]\n",
      "[[[1. 1. 1. 1.]\n",
      "  [1. 1. 1. 1.]\n",
      "  [1. 1. 1. 1.]]\n",
      "\n",
      " [[1. 1. 1. 1.]\n",
      "  [1. 1. 1. 1.]\n",
      "  [1. 1. 1. 1.]]]\n"
     ]
    }
   ],
   "source": [
    "#Initial Placeholders\n",
    "a = np.zeros((2,3)) #2 rows and 3 cols\n",
    "b = np.ones((2,3,4)) #2 shapes, 3 rows and 4 cols\n",
    "print(a)\n",
    "print(b)"
   ]
  },
  {
   "cell_type": "code",
   "execution_count": 7,
   "id": "ebd9c693-1c6b-4c45-ba4d-860c21886658",
   "metadata": {},
   "outputs": [
    {
     "name": "stdout",
     "output_type": "stream",
     "text": [
      "[10 13 16 19 22]\n"
     ]
    }
   ],
   "source": [
    "d = np.arange(10,25,3) #between 10 to 25 and with difference of 3\n",
    "print(d)"
   ]
  },
  {
   "cell_type": "code",
   "execution_count": 9,
   "id": "5d35d447-8ab8-44a2-a710-018456b0f5a8",
   "metadata": {},
   "outputs": [
    {
     "name": "stdout",
     "output_type": "stream",
     "text": [
      "[12.  10.6  9.2  7.8  6.4  5. ]\n",
      "[1. 4. 7.]\n"
     ]
    }
   ],
   "source": [
    "import numpy as np\n",
    "g = np.linspace(12,5,6) #Between 12 to 5 with no.of intergers 6\n",
    "h = np.linspace(1,7,3)\n",
    "print(g)\n",
    "print(h)"
   ]
  },
  {
   "cell_type": "code",
   "execution_count": 21,
   "id": "fb94e425-e005-4e2a-852c-8d05f200981a",
   "metadata": {},
   "outputs": [
    {
     "name": "stdout",
     "output_type": "stream",
     "text": [
      "[9 9 9 9 9 9]\n",
      "1\n"
     ]
    }
   ],
   "source": [
    "#Create 1D array\n",
    "e = np.full((6),9) # ((col),element))\n",
    "print(e)\n",
    "print(e.ndim)"
   ]
  },
  {
   "cell_type": "code",
   "execution_count": 27,
   "id": "a08d95aa-0f63-49b3-a451-ce988d65db8e",
   "metadata": {},
   "outputs": [
    {
     "name": "stdout",
     "output_type": "stream",
     "text": [
      "[[5 5 5 5]\n",
      " [5 5 5 5]\n",
      " [5 5 5 5]\n",
      " [5 5 5 5]\n",
      " [5 5 5 5]\n",
      " [5 5 5 5]]\n",
      "2\n"
     ]
    }
   ],
   "source": [
    "#Create 2D array\n",
    "f = np.full((6,4),5) #((rows,col),element)\n",
    "print(f)\n",
    "print(f.ndim)"
   ]
  },
  {
   "cell_type": "code",
   "execution_count": 35,
   "id": "6fa065ca-5d60-47d0-abfb-48ccddf6b932",
   "metadata": {},
   "outputs": [
    {
     "name": "stdout",
     "output_type": "stream",
     "text": [
      "[[[4 4 4 4 4]\n",
      "  [4 4 4 4 4]\n",
      "  [4 4 4 4 4]\n",
      "  [4 4 4 4 4]\n",
      "  [4 4 4 4 4]]\n",
      "\n",
      " [[4 4 4 4 4]\n",
      "  [4 4 4 4 4]\n",
      "  [4 4 4 4 4]\n",
      "  [4 4 4 4 4]\n",
      "  [4 4 4 4 4]]\n",
      "\n",
      " [[4 4 4 4 4]\n",
      "  [4 4 4 4 4]\n",
      "  [4 4 4 4 4]\n",
      "  [4 4 4 4 4]\n",
      "  [4 4 4 4 4]]]\n",
      "3\n"
     ]
    }
   ],
   "source": [
    "#Create 3D array\n",
    "j = np.full((3,5,5),4) #((shape,rows,cols),element)\n",
    "print(j)\n",
    "print(j.ndim)"
   ]
  },
  {
   "cell_type": "code",
   "execution_count": 43,
   "id": "47667e4f-348b-44a0-a0b5-7622ed7fe1c4",
   "metadata": {},
   "outputs": [
    {
     "name": "stdout",
     "output_type": "stream",
     "text": [
      "[[1. 0. 0. 0.]\n",
      " [0. 1. 0. 0.]\n",
      " [0. 0. 1. 0.]\n",
      " [0. 0. 0. 1.]]\n",
      "[[1. 0.]\n",
      " [0. 1.]]\n"
     ]
    }
   ],
   "source": [
    "f = np.eye(4) #4X4 matrix\n",
    "print(f)\n",
    "f1 = np.eye(2) #2X2\n",
    "print(f1)"
   ]
  },
  {
   "cell_type": "code",
   "execution_count": 62,
   "id": "f10581a2-b92b-4485-a4d3-2c1b8231fb78",
   "metadata": {},
   "outputs": [
    {
     "name": "stdout",
     "output_type": "stream",
     "text": [
      "[[0.61848447 0.46820515 0.0767649  0.34426213]\n",
      " [0.296624   0.39353449 0.86692459 0.16172667]\n",
      " [0.43709464 0.54520238 0.51940274 0.14095229]]\n",
      "[[0.76515189]]\n"
     ]
    }
   ],
   "source": [
    "a = np.random.random((3,4)) # print random decimals from 0 to 1 itself\n",
    "b = np.random.random((1,1))\n",
    "print(a) \n",
    "print(b)"
   ]
  },
  {
   "cell_type": "code",
   "execution_count": 80,
   "id": "51b4c4d9-4ac3-4516-87ad-e63c5e184e86",
   "metadata": {},
   "outputs": [
    {
     "name": "stdout",
     "output_type": "stream",
     "text": [
      "(3, 3)\n",
      "(4, 3)\n"
     ]
    }
   ],
   "source": [
    "arr = np.array([[2,4,6],            \n",
    "                [8,10,12],\n",
    "                [14,16,18]])   #prints the shape of the matrix (rows , cols)\n",
    "print(arr.shape)\n",
    "arr1 = np.array([[10,12,13],\n",
    "               [23,34,45],\n",
    "               [45,56,67],\n",
    "               [67,78,89]])\n",
    "print(arr1.shape)"
   ]
  },
  {
   "cell_type": "code",
   "execution_count": 94,
   "id": "a7086aed-34dc-4e2b-949b-1391de7d2de3",
   "metadata": {},
   "outputs": [
    {
     "name": "stdout",
     "output_type": "stream",
     "text": [
      "9\n",
      "25\n"
     ]
    }
   ],
   "source": [
    "arr2 = np.array([[0 ,1 ,2],    \n",
    "                 [3 ,5 ,7],\n",
    "                 [9 ,11,13]])     #prints the size of the matrix (no.of elements in the matrix)\n",
    "arr3 = np.array([[1,2,3,4,5],     \n",
    "                 [2,6,22,72,2],\n",
    "                 [2,435,54,7,3],\n",
    "                 [23,45,76,56,98],\n",
    "                 [12,45,54,71,4]])\n",
    "print(arr2.size)\n",
    "print(arr3.size)"
   ]
  },
  {
   "cell_type": "code",
   "execution_count": 110,
   "id": "e892bca0-f31c-47b2-8640-987ed1296662",
   "metadata": {},
   "outputs": [
    {
     "name": "stdout",
     "output_type": "stream",
     "text": [
      "5\n",
      "3\n"
     ]
    }
   ],
   "source": [
    "arr4 = np.array([[1,2,3,4,5,6],     \n",
    "                 [2,6,22,72,2,1],\n",
    "                 [2,435,54,7,3,4],\n",
    "                 [23,45,76,56,98,4],\n",
    "                 [12,45,54,71,4,2]])    #prints length of the matrix (no.of rows)\n",
    "print(len(arr4))\n",
    "arr5 = np.array([[1,2,3],\n",
    "                [3,6,1],\n",
    "                [9,7,0]])\n",
    "print(len(arr5))"
   ]
  },
  {
   "cell_type": "code",
   "execution_count": 15,
   "id": "4db541c0-e786-4319-8da7-e195da6f268b",
   "metadata": {},
   "outputs": [
    {
     "name": "stdout",
     "output_type": "stream",
     "text": [
      "3\n",
      "5\n"
     ]
    }
   ],
   "source": [
    "#Access Array Elements\n",
    "#We can access the elements by using index method \n",
    "arr = np.array([1,2,3,4,5])\n",
    "print(arr[2]) #Giving index to detect value\n",
    "print(arr[4])"
   ]
  },
  {
   "cell_type": "code",
   "execution_count": 31,
   "id": "393cb239-15dc-4efe-96bf-ed27945e9572",
   "metadata": {},
   "outputs": [
    {
     "name": "stdout",
     "output_type": "stream",
     "text": [
      "-4\n",
      "0\n",
      "1054752768\n",
      "1.6666666666666667\n",
      "0\n",
      "0\n"
     ]
    }
   ],
   "source": [
    "#adding the elements using index\n",
    "arr = np.array([2,4,6,8,10,12,14,16])\n",
    "print(arr[1] + arr[3] - arr[7])\n",
    "print(arr[0] * arr[2] - arr[5])\n",
    "print(arr[2] ** arr[6])\n",
    "print(arr[4] / arr[2])\n",
    "print(arr[2] // arr[6])\n",
    "print(arr[5] % arr[2])"
   ]
  },
  {
   "cell_type": "code",
   "execution_count": 53,
   "id": "e2c258c1-f6e3-4a3a-a6c0-bb6b43937326",
   "metadata": {},
   "outputs": [
    {
     "name": "stdout",
     "output_type": "stream",
     "text": [
      "7\n",
      "0\n",
      "3\n"
     ]
    }
   ],
   "source": [
    "# Accessing elements using index in 2D\n",
    "arr = np.array([[1,2,3,4,5],\n",
    "                 [1,3,5,7,9],\n",
    "                 [2,4,6,8,5],\n",
    "                 [3,7,2,0,4]])\n",
    "print(arr[1,3])\n",
    "print(arr[3,3])\n",
    "print(arr[0,2])"
   ]
  },
  {
   "cell_type": "code",
   "execution_count": 11,
   "id": "34b24721-d432-4ccd-8a8d-a785a59d54fc",
   "metadata": {},
   "outputs": [
    {
     "name": "stdout",
     "output_type": "stream",
     "text": [
      "112\n",
      "10\n"
     ]
    }
   ],
   "source": [
    "# Accessing elements using index in 3D\n",
    "arr = np.array([[[1, 1, 3], [4, 3, 6]], \n",
    "                [[78, 81, 9], [10, 112, 12]]])\n",
    "\n",
    "#Access by index\n",
    "print(arr[1, 1, 1])\n",
    "print(arr[1,1,0])"
   ]
  },
  {
   "cell_type": "markdown",
   "id": "07c4d2b1-da35-4df8-86bb-845cd76fd616",
   "metadata": {},
   "source": [
    "## Data Types"
   ]
  },
  {
   "cell_type": "code",
   "execution_count": 32,
   "id": "9172f6a3-bea0-49f8-85da-d3556865b579",
   "metadata": {},
   "outputs": [
    {
     "name": "stdout",
     "output_type": "stream",
     "text": [
      "[b'1' b'2' b'3' b'4' b'5' b'6' b'7']\n",
      "|S1\n",
      "[b'6' b'3' b'6' b'9872' b'1' b'23']\n",
      "|S4\n"
     ]
    }
   ],
   "source": [
    "#string\n",
    "arr = np.array([1,2,3,4,5,6,7], dtype = \"S\")\n",
    "print(arr)\n",
    "print(arr.dtype)\n",
    "\n",
    "arr1 = np.array([6,3,6,9872,1,23,], dtype = \"S\")\n",
    "print(arr1) \n",
    "print(arr1.dtype)"
   ]
  },
  {
   "cell_type": "code",
   "execution_count": 48,
   "id": "7d8fd959-ca28-4ce0-a2d9-c7c0a74e9940",
   "metadata": {},
   "outputs": [
    {
     "name": "stdout",
     "output_type": "stream",
     "text": [
      "[2 6 3 2 7]\n",
      "int32\n",
      "[53 76  4  8 34]\n",
      "int32\n"
     ]
    }
   ],
   "source": [
    "#integer\n",
    "arr = np.array([2,6,3,2,7], dtype = \"i4\")\n",
    "print(arr)\n",
    "print(arr.dtype)\n",
    "\n",
    "arr = np.array([53,76,4,8,34], dtype = \"i4\")\n",
    "print(arr)\n",
    "print(arr.dtype)"
   ]
  },
  {
   "cell_type": "code",
   "execution_count": 56,
   "id": "c9d065df-bf81-4775-8e0e-25be23288a35",
   "metadata": {},
   "outputs": [
    {
     "name": "stdout",
     "output_type": "stream",
     "text": [
      "[22  3  4  6  7]\n",
      "[32 43 45 78 62 21]\n"
     ]
    }
   ],
   "source": [
    "#Change data type from float to integer by using 'i' as parameter value:\n",
    "arr = np.array([22.3,3.2,4.34,6.1,7.2])\n",
    "print(arr.astype(\"i\"))\n",
    "\n",
    "arr1 = np.array([32.1,43.22,45.234,78.1,62,21])\n",
    "newarr = arr1.astype(\"i\")\n",
    "print(newarr)"
   ]
  },
  {
   "cell_type": "code",
   "execution_count": 58,
   "id": "f1473e16-b9dc-476e-9d7e-4b55e6c6e367",
   "metadata": {},
   "outputs": [
    {
     "name": "stdout",
     "output_type": "stream",
     "text": [
      "[ True False  True]\n",
      "bool\n"
     ]
    }
   ],
   "source": [
    "#Change data type from integer to boolean:\n",
    "arr = np.array([1, 0, 3])\n",
    "\n",
    "newarr = arr.astype(bool)\n",
    "\n",
    "print(newarr)\n",
    "print(newarr.dtype)"
   ]
  },
  {
   "cell_type": "code",
   "execution_count": 92,
   "id": "851517fb-600c-4a1e-9389-3e49d99978d4",
   "metadata": {},
   "outputs": [
    {
     "name": "stdout",
     "output_type": "stream",
     "text": [
      "[23  4  6  8 10 13]\n",
      "[ 2  4  6  8 10 13]\n",
      "[    12     54    345     76    345 123456    234]\n",
      "[ 12  54 345  76 345 123 234]\n"
     ]
    }
   ],
   "source": [
    "#copy\n",
    "arr = np.array([2,4,6,8,10,13])\n",
    "newarr = arr.copy()\n",
    "arr[0] = 23\n",
    "print(arr)\n",
    "print(newarr)\n",
    "\n",
    "arr1 = np.array([12,54,345,76,345,123,234])\n",
    "newarr1 = arr1.copy()\n",
    "arr1[5] = 123456\n",
    "print(arr1)\n",
    "print(newarr1)"
   ]
  },
  {
   "cell_type": "code",
   "execution_count": 94,
   "id": "a357039e-8ce8-4959-b480-c3a8d8ab569e",
   "metadata": {},
   "outputs": [
    {
     "name": "stdout",
     "output_type": "stream",
     "text": [
      "[ 2  4  6 25 10 13]\n",
      "[ 2  4  6 25 10 13]\n"
     ]
    }
   ],
   "source": [
    "#view\n",
    "arr = np.array([2,4,6,8,10,13])\n",
    "newarr = arr.view()\n",
    "arr[3] = 25\n",
    "print(arr)\n",
    "print(newarr)"
   ]
  },
  {
   "cell_type": "markdown",
   "id": "130a5859-5704-42bc-837d-146b19adab97",
   "metadata": {},
   "source": [
    "## Reshaping arrays"
   ]
  },
  {
   "cell_type": "code",
   "execution_count": 103,
   "id": "bfe90d69-ab81-4953-bfd3-4c894a00aac0",
   "metadata": {},
   "outputs": [
    {
     "name": "stdout",
     "output_type": "stream",
     "text": [
      "[[ 2  4]\n",
      " [ 6  8]\n",
      " [ 0  1]\n",
      " [ 3  5]\n",
      " [ 7  9]\n",
      " [12 23]\n",
      " [34 45]]\n",
      "[[ 2  4  6  8  0  1  3]\n",
      " [ 5  7  9 12 23 34 45]]\n"
     ]
    }
   ],
   "source": [
    "#convert  the array from 1D to 2D\n",
    "arr = np.array([2,4,6,8,0,1,3,5,7,9,12,23,34,45])\n",
    "print(arr.reshape(7,2))\n",
    "\n",
    "print(arr.reshape(2,7))"
   ]
  },
  {
   "cell_type": "code",
   "execution_count": 115,
   "id": "a4c76184-973e-4ee5-a45c-8a5bcfc173c3",
   "metadata": {},
   "outputs": [
    {
     "name": "stdout",
     "output_type": "stream",
     "text": [
      "[[[ 1  2  3  4  5]\n",
      "  [ 6  7  8  9 10]]\n",
      "\n",
      " [[11 12 13 14 15]\n",
      "  [16 17 18 19 20]]]\n"
     ]
    }
   ],
   "source": [
    "#conert the array from 1D to 3D\n",
    "arr = np.array([1,2,3,4,5,6,7,8,9,10,11,12,13,14,15,16,17,18,19,20])\n",
    "print(arr.reshape(2,2,5))"
   ]
  },
  {
   "cell_type": "code",
   "execution_count": 125,
   "id": "e59d4fae-0ebe-40b0-84b6-e44860bb29b2",
   "metadata": {},
   "outputs": [
    {
     "name": "stdout",
     "output_type": "stream",
     "text": [
      "[ 2  3  4  5  6  3  7  4  1 67  2  5  4  1  7]\n"
     ]
    }
   ],
   "source": [
    "#convert the array from 2D to 1D\n",
    "arr = np.array([[2,3,4,5,6],\n",
    "                [3,7,4,1,67],\n",
    "                [2,5,4,1,7]])\n",
    "print(arr.reshape(15))"
   ]
  },
  {
   "cell_type": "code",
   "execution_count": 129,
   "id": "68409827-8032-4d54-ab85-eae2872e2dad",
   "metadata": {},
   "outputs": [
    {
     "name": "stdout",
     "output_type": "stream",
     "text": [
      "[[[ 12  23]\n",
      "  [ 44   6]]\n",
      "\n",
      " [[  7   1]\n",
      "  [  5   2]]\n",
      "\n",
      " [[  7   2]\n",
      "  [ 12  76]]\n",
      "\n",
      " [[234 876]\n",
      "  [ 23  12]]\n",
      "\n",
      " [[ 34 654]\n",
      "  [ 23  43]]]\n"
     ]
    }
   ],
   "source": [
    "#convert the array from 2D to 3D\n",
    "arr = np.array([[12,23,44,6,7],\n",
    "                [1,5,2,7,2],\n",
    "                [12,76,234,876,23],\n",
    "                [12,34,654,23,43]])\n",
    "               \n",
    "print(arr.reshape(5,2,2))"
   ]
  },
  {
   "cell_type": "code",
   "execution_count": 131,
   "id": "9d0dbbb6-95e6-41d0-8360-3ccb3bcebf80",
   "metadata": {},
   "outputs": [
    {
     "name": "stdout",
     "output_type": "stream",
     "text": [
      "[123   2  34  23  12  32  23  76  31  23  54  12  76  56 876  24 324  76\n",
      "   3   8 234  98  58   4]\n"
     ]
    }
   ],
   "source": [
    "#convert the array from 3D to 1D\n",
    "arr = np.array([[[123,2,34,23],[12,32,23,76]],\n",
    "                [[31,23,54,12],[76,56,876,24]],\n",
    "                [[324,76,3,8],[234,98,58,4]]])\n",
    "print(arr.reshape(24))"
   ]
  },
  {
   "cell_type": "code",
   "execution_count": 135,
   "id": "f7f33f78-b768-48d6-980c-67367b1c7323",
   "metadata": {},
   "outputs": [
    {
     "name": "stdout",
     "output_type": "stream",
     "text": [
      "[[123   2  34  23  12  32]\n",
      " [ 23  76  31  23  54  12]\n",
      " [ 76  56 876  24 324  76]\n",
      " [  3   8 234  98  58   4]]\n"
     ]
    }
   ],
   "source": [
    "#convert the array from 3D to 2D\n",
    "arr = np.array([[[123,2,34,23],[12,32,23,76]],\n",
    "                [[31,23,54,12],[76,56,876,24]],\n",
    "                [[324,76,3,8],[234,98,58,4]]])\n",
    "newarr = arr.reshape(4,6)\n",
    "print(newarr)"
   ]
  },
  {
   "cell_type": "code",
   "execution_count": 143,
   "id": "9932500a-5d2b-41d7-850b-6cfef26948b9",
   "metadata": {},
   "outputs": [
    {
     "name": "stdout",
     "output_type": "stream",
     "text": [
      "[[166  28  97  57]\n",
      " [ 46  75  99  67]]\n",
      "[[166  28  97  57]\n",
      " [ 46  75  99  67]]\n"
     ]
    }
   ],
   "source": [
    "#Adding of two or more arrays\n",
    "arr1 = np.array([[123,5,43,34],[23,43,65,2]])\n",
    "arr2 = np.array([[43,23,54,23],[23,32,34,65]])\n",
    "print(arr1 + arr2)\n",
    "print(np.add(arr1,arr2))"
   ]
  },
  {
   "cell_type": "code",
   "execution_count": 147,
   "id": "88aad24c-2715-4a64-83d6-d5483a12cf2d",
   "metadata": {},
   "outputs": [
    {
     "name": "stdout",
     "output_type": "stream",
     "text": [
      "[[ 80 -18 -11  11]\n",
      " [  0  11  31 -63]]\n",
      "[[ 80 -18 -11  11]\n",
      " [  0  11  31 -63]]\n"
     ]
    }
   ],
   "source": [
    "#subtracting the arrays\n",
    "arr1 = np.array([[123,5,43,34],[23,43,65,2]])\n",
    "arr2 = np.array([[43,23,54,23],[23,32,34,65]])\n",
    "print(arr1 - arr2)\n",
    "print(np.subtract(arr1,arr2))"
   ]
  },
  {
   "cell_type": "code",
   "execution_count": 157,
   "id": "7502cc15-266e-4bce-bf0f-530accbf6fb7",
   "metadata": {},
   "outputs": [
    {
     "name": "stdout",
     "output_type": "stream",
     "text": [
      "[[5289  115 2322  782]\n",
      " [ 529 1376 2210  130]]\n",
      "[[5289  115 2322  782]\n",
      " [ 529 1376 2210  130]]\n"
     ]
    }
   ],
   "source": [
    "#multiplication of arrays\n",
    "arr1 = np.array([[123,5,43,34],[23,43,65,2]])\n",
    "arr2 = np.array([[43,23,54,23],[23,32,34,65]])\n",
    "print(arr1 * arr2)\n",
    "print(np.multiply(arr1,arr2))"
   ]
  },
  {
   "cell_type": "code",
   "execution_count": 171,
   "id": "ad8ee69d-edf3-4798-ac99-cafcc932e4cc",
   "metadata": {},
   "outputs": [
    {
     "name": "stdout",
     "output_type": "stream",
     "text": [
      "[[11.09053651  2.23606798  6.55743852  5.83095189]\n",
      " [ 4.79583152  6.55743852  8.06225775  1.41421356]]\n",
      "[[6.55743852 4.79583152 7.34846923 4.79583152]\n",
      " [4.79583152 5.65685425 5.83095189 8.06225775]]\n"
     ]
    }
   ],
   "source": [
    "#Squaring of arrays\n",
    "arr1 = np.array([[123,5,43,34],[23,43,65,2]])\n",
    "arr2 = np.array([[43,23,54,23],[23,32,34,65]])\n",
    "print(np.sqrt(arr1))\n",
    "print(np.sqrt(arr2))"
   ]
  },
  {
   "cell_type": "code",
   "execution_count": 175,
   "id": "49d601ba-cec7-4383-a50e-7ad91466c70d",
   "metadata": {},
   "outputs": [
    {
     "name": "stdout",
     "output_type": "stream",
     "text": [
      "[[2.86046512 0.2173913  0.7962963  1.47826087]\n",
      " [1.         1.34375    1.91176471 0.03076923]]\n",
      "[[2.86046512 0.2173913  0.7962963  1.47826087]\n",
      " [1.         1.34375    1.91176471 0.03076923]]\n"
     ]
    }
   ],
   "source": [
    "#division of arrays\n",
    "arr1 = np.array([[123,5,43,34],[23,43,65,2]])\n",
    "arr2 = np.array([[43,23,54,23],[23,32,34,65]])\n",
    "print(arr1 / arr2)\n",
    "print(np.divide(arr1,arr2))"
   ]
  },
  {
   "cell_type": "code",
   "execution_count": 193,
   "id": "e8219dd2-0973-4245-8333-e6edaff978c5",
   "metadata": {},
   "outputs": [
    {
     "name": "stdout",
     "output_type": "stream",
     "text": [
      "[4 5 6 7 8 9]\n",
      "[2 3 4 5 6 7 8 9]\n",
      "[5 6 7 8 9]\n",
      "[4 5 6 7 8]\n",
      "[2 9]\n",
      "[3]\n"
     ]
    }
   ],
   "source": [
    "#Slicing the elements from an array\n",
    "arr = np.array([2,3,4,5,6,7,8,9])\n",
    "print(arr[2:8]) #n-1\n",
    "print(arr[:9])\n",
    "print(arr[3:])\n",
    "print(arr[-6:-1])\n",
    "print(arr[::7])\n",
    "print(arr[1:5:6])"
   ]
  },
  {
   "cell_type": "code",
   "execution_count": 197,
   "id": "5960da62-5bea-4c40-b810-6b4a0e16d3d6",
   "metadata": {},
   "outputs": [
    {
     "name": "stdout",
     "output_type": "stream",
     "text": [
      "[ 12  76 234 876]\n",
      "[23 44  6]\n"
     ]
    }
   ],
   "source": [
    "#slicing 2D array\n",
    "arr = np.array([[12,23,44,6,7],\n",
    "                [1,5,2,7,2],\n",
    "                [12,76,234,876,23],\n",
    "                [12,34,654,23,43]])\n",
    "print(arr[2 , 0:4])\n",
    "print(arr[0 , -4:-1])"
   ]
  },
  {
   "cell_type": "code",
   "execution_count": 203,
   "id": "00cc5683-ab37-4bd7-a93a-bd84e654a74e",
   "metadata": {},
   "outputs": [
    {
     "name": "stdout",
     "output_type": "stream",
     "text": [
      "[54 12]\n",
      "[234  98  58   4]\n",
      "[123   2  34]\n"
     ]
    }
   ],
   "source": [
    "#slicing 3D array\n",
    "arr = np.array([[[123,2,34,23],[12,32,23,76]],\n",
    "                [[31,23,54,12],[76,56,876,24]],\n",
    "                [[324,76,3,8],[234,98,58,4]]])\n",
    "print(arr[1,0,2:5])\n",
    "print(arr[2,1,0:5])\n",
    "print(arr[0,0,-4:-1])"
   ]
  },
  {
   "cell_type": "code",
   "execution_count": null,
   "id": "1f00666f-c21a-4836-8aa0-f3fdac88a0c5",
   "metadata": {},
   "outputs": [],
   "source": []
  }
 ],
 "metadata": {
  "kernelspec": {
   "display_name": "Python 3 (ipykernel)",
   "language": "python",
   "name": "python3"
  },
  "language_info": {
   "codemirror_mode": {
    "name": "ipython",
    "version": 3
   },
   "file_extension": ".py",
   "mimetype": "text/x-python",
   "name": "python",
   "nbconvert_exporter": "python",
   "pygments_lexer": "ipython3",
   "version": "3.12.4"
  }
 },
 "nbformat": 4,
 "nbformat_minor": 5
}
